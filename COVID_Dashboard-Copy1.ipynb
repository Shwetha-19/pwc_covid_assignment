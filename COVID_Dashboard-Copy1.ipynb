{
 "cells": [
  {
   "cell_type": "code",
   "execution_count": 1,
   "metadata": {},
   "outputs": [
    {
     "data": {
      "text/html": [
       "        <script type=\"text/javascript\">\n",
       "        window.PlotlyConfig = {MathJaxConfig: 'local'};\n",
       "        if (window.MathJax) {MathJax.Hub.Config({SVG: {font: \"STIX-Web\"}});}\n",
       "        if (typeof require !== 'undefined') {\n",
       "        require.undef(\"plotly\");\n",
       "        requirejs.config({\n",
       "            paths: {\n",
       "                'plotly': ['https://cdn.plot.ly/plotly-latest.min']\n",
       "            }\n",
       "        });\n",
       "        require(['plotly'], function(Plotly) {\n",
       "            window._Plotly = Plotly;\n",
       "        });\n",
       "        }\n",
       "        </script>\n",
       "        "
      ]
     },
     "metadata": {},
     "output_type": "display_data"
    }
   ],
   "source": [
    "import gc\n",
    "import os\n",
    "from pathlib import Path\n",
    "#import random\n",
    "import sys\n",
    "\n",
    "from tqdm.notebook import tqdm\n",
    "import numpy as np\n",
    "import pandas as pd\n",
    "import scipy as sp\n",
    "\n",
    "import matplotlib as mpl\n",
    "import matplotlib.pyplot as plt\n",
    "import seaborn as sns\n",
    "\n",
    "from IPython.core.display import display, HTML\n",
    "\n",
    "# --- plotly --- \n",
    "from plotly import tools, subplots\n",
    "import plotly.offline as py\n",
    "py.init_notebook_mode(connected=True)\n",
    "import plotly.graph_objects as go\n",
    "import plotly.express as px\n",
    "import plotly.figure_factory as ff\n",
    "import plotly.io as pio\n",
    "pio.templates.default = \"plotly_dark\"\n",
    "\n",
    "# --- dash ---\n",
    "import dash\n",
    "import dash_core_components as dcc\n",
    "import dash_html_components as html\n",
    "from dash.dependencies import Input, Output\n",
    "\n",
    "\n"
   ]
  },
  {
   "cell_type": "code",
   "execution_count": 2,
   "metadata": {},
   "outputs": [],
   "source": [
    "from datetime import datetime\n",
    "\n",
    "def _convert_date_str(df):\n",
    "    try:\n",
    "        df.columns = list(df.columns[:1]) + [datetime.strptime(d, \"%m%d%y\").date().strftime(\"%d/%m/%Y\") for d in df.columns[1:]]\n",
    "    except:\n",
    "        print('_convert_date_str failed with %y, try %Y')\n",
    "        df.columns = list(df.columns[:1]) + [datetime.strptime(d, \"%m%d%Y\").date().strftime(\"%d/%m/%Y\") for d in df.columns[1:]]\n"
   ]
  },
  {
   "cell_type": "code",
   "execution_count": 3,
   "metadata": {
    "scrolled": true
   },
   "outputs": [
    {
     "data": {
      "text/html": [
       "<div>\n",
       "<style scoped>\n",
       "    .dataframe tbody tr th:only-of-type {\n",
       "        vertical-align: middle;\n",
       "    }\n",
       "\n",
       "    .dataframe tbody tr th {\n",
       "        vertical-align: top;\n",
       "    }\n",
       "\n",
       "    .dataframe thead th {\n",
       "        text-align: right;\n",
       "    }\n",
       "</style>\n",
       "<table border=\"1\" class=\"dataframe\">\n",
       "  <thead>\n",
       "    <tr style=\"text-align: right;\">\n",
       "      <th></th>\n",
       "      <th>CNTRYNAME</th>\n",
       "      <th>122</th>\n",
       "      <th>123</th>\n",
       "      <th>124</th>\n",
       "      <th>125</th>\n",
       "      <th>126</th>\n",
       "      <th>127</th>\n",
       "      <th>128</th>\n",
       "      <th>129</th>\n",
       "      <th>130</th>\n",
       "      <th>...</th>\n",
       "      <th>416</th>\n",
       "      <th>417</th>\n",
       "      <th>418</th>\n",
       "      <th>419</th>\n",
       "      <th>420</th>\n",
       "      <th>421</th>\n",
       "      <th>422</th>\n",
       "      <th>423</th>\n",
       "      <th>424</th>\n",
       "      <th>425</th>\n",
       "    </tr>\n",
       "  </thead>\n",
       "  <tbody>\n",
       "    <tr>\n",
       "      <th>0</th>\n",
       "      <td>Aruba</td>\n",
       "      <td>0.0</td>\n",
       "      <td>0.0</td>\n",
       "      <td>0.0</td>\n",
       "      <td>0.0</td>\n",
       "      <td>0.0</td>\n",
       "      <td>0.0</td>\n",
       "      <td>0.0</td>\n",
       "      <td>0.0</td>\n",
       "      <td>0.0</td>\n",
       "      <td>...</td>\n",
       "      <td>0.0</td>\n",
       "      <td>0.0</td>\n",
       "      <td>0.0</td>\n",
       "      <td>0.0</td>\n",
       "      <td>0.0</td>\n",
       "      <td>0.0</td>\n",
       "      <td>0.0</td>\n",
       "      <td>0.0</td>\n",
       "      <td>0.0</td>\n",
       "      <td>0.0</td>\n",
       "    </tr>\n",
       "    <tr>\n",
       "      <th>1</th>\n",
       "      <td>Antigua and Barbuda</td>\n",
       "      <td>0.0</td>\n",
       "      <td>0.0</td>\n",
       "      <td>0.0</td>\n",
       "      <td>0.0</td>\n",
       "      <td>0.0</td>\n",
       "      <td>0.0</td>\n",
       "      <td>0.0</td>\n",
       "      <td>0.0</td>\n",
       "      <td>0.0</td>\n",
       "      <td>...</td>\n",
       "      <td>23.0</td>\n",
       "      <td>23.0</td>\n",
       "      <td>23.0</td>\n",
       "      <td>23.0</td>\n",
       "      <td>23.0</td>\n",
       "      <td>23.0</td>\n",
       "      <td>24.0</td>\n",
       "      <td>24.0</td>\n",
       "      <td>24.0</td>\n",
       "      <td>24.0</td>\n",
       "    </tr>\n",
       "    <tr>\n",
       "      <th>2</th>\n",
       "      <td>Afghanistan</td>\n",
       "      <td>0.0</td>\n",
       "      <td>0.0</td>\n",
       "      <td>0.0</td>\n",
       "      <td>0.0</td>\n",
       "      <td>0.0</td>\n",
       "      <td>0.0</td>\n",
       "      <td>0.0</td>\n",
       "      <td>0.0</td>\n",
       "      <td>0.0</td>\n",
       "      <td>...</td>\n",
       "      <td>840.0</td>\n",
       "      <td>906.0</td>\n",
       "      <td>933.0</td>\n",
       "      <td>996.0</td>\n",
       "      <td>1026.0</td>\n",
       "      <td>1092.0</td>\n",
       "      <td>1176.0</td>\n",
       "      <td>1279.0</td>\n",
       "      <td>1351.0</td>\n",
       "      <td>1463.0</td>\n",
       "    </tr>\n",
       "    <tr>\n",
       "      <th>3</th>\n",
       "      <td>Algeria</td>\n",
       "      <td>0.0</td>\n",
       "      <td>0.0</td>\n",
       "      <td>0.0</td>\n",
       "      <td>0.0</td>\n",
       "      <td>0.0</td>\n",
       "      <td>0.0</td>\n",
       "      <td>0.0</td>\n",
       "      <td>0.0</td>\n",
       "      <td>0.0</td>\n",
       "      <td>...</td>\n",
       "      <td>2268.0</td>\n",
       "      <td>2418.0</td>\n",
       "      <td>2534.0</td>\n",
       "      <td>2629.0</td>\n",
       "      <td>2718.0</td>\n",
       "      <td>2811.0</td>\n",
       "      <td>2910.0</td>\n",
       "      <td>3007.0</td>\n",
       "      <td>3127.0</td>\n",
       "      <td>3256.0</td>\n",
       "    </tr>\n",
       "    <tr>\n",
       "      <th>4</th>\n",
       "      <td>Azerbaijan</td>\n",
       "      <td>0.0</td>\n",
       "      <td>0.0</td>\n",
       "      <td>0.0</td>\n",
       "      <td>0.0</td>\n",
       "      <td>0.0</td>\n",
       "      <td>0.0</td>\n",
       "      <td>0.0</td>\n",
       "      <td>0.0</td>\n",
       "      <td>0.0</td>\n",
       "      <td>...</td>\n",
       "      <td>1283.0</td>\n",
       "      <td>1340.0</td>\n",
       "      <td>1373.0</td>\n",
       "      <td>1398.0</td>\n",
       "      <td>1436.0</td>\n",
       "      <td>1480.0</td>\n",
       "      <td>1518.0</td>\n",
       "      <td>1548.0</td>\n",
       "      <td>1592.0</td>\n",
       "      <td>1617.0</td>\n",
       "    </tr>\n",
       "  </tbody>\n",
       "</table>\n",
       "<p>5 rows × 96 columns</p>\n",
       "</div>"
      ],
      "text/plain": [
       "             CNTRYNAME  122  123  124  125  126  127  128  129  130  ...  \\\n",
       "0                Aruba  0.0  0.0  0.0  0.0  0.0  0.0  0.0  0.0  0.0  ...   \n",
       "1  Antigua and Barbuda  0.0  0.0  0.0  0.0  0.0  0.0  0.0  0.0  0.0  ...   \n",
       "2          Afghanistan  0.0  0.0  0.0  0.0  0.0  0.0  0.0  0.0  0.0  ...   \n",
       "3              Algeria  0.0  0.0  0.0  0.0  0.0  0.0  0.0  0.0  0.0  ...   \n",
       "4           Azerbaijan  0.0  0.0  0.0  0.0  0.0  0.0  0.0  0.0  0.0  ...   \n",
       "\n",
       "      416     417     418     419     420     421     422     423     424  \\\n",
       "0     0.0     0.0     0.0     0.0     0.0     0.0     0.0     0.0     0.0   \n",
       "1    23.0    23.0    23.0    23.0    23.0    23.0    24.0    24.0    24.0   \n",
       "2   840.0   906.0   933.0   996.0  1026.0  1092.0  1176.0  1279.0  1351.0   \n",
       "3  2268.0  2418.0  2534.0  2629.0  2718.0  2811.0  2910.0  3007.0  3127.0   \n",
       "4  1283.0  1340.0  1373.0  1398.0  1436.0  1480.0  1518.0  1548.0  1592.0   \n",
       "\n",
       "      425  \n",
       "0     0.0  \n",
       "1    24.0  \n",
       "2  1463.0  \n",
       "3  3256.0  \n",
       "4  1617.0  \n",
       "\n",
       "[5 rows x 96 columns]"
      ]
     },
     "execution_count": 3,
     "metadata": {},
     "output_type": "execute_result"
    }
   ],
   "source": [
    "cases_df=pd.read_csv('dataset.csv')\n",
    "cases_df.head(5)"
   ]
  },
  {
   "cell_type": "code",
   "execution_count": 4,
   "metadata": {},
   "outputs": [
    {
     "name": "stdout",
     "output_type": "stream",
     "text": [
      "_convert_date_str failed with %y, try %Y\n"
     ]
    },
    {
     "data": {
      "text/html": [
       "<div>\n",
       "<style scoped>\n",
       "    .dataframe tbody tr th:only-of-type {\n",
       "        vertical-align: middle;\n",
       "    }\n",
       "\n",
       "    .dataframe tbody tr th {\n",
       "        vertical-align: top;\n",
       "    }\n",
       "\n",
       "    .dataframe thead th {\n",
       "        text-align: right;\n",
       "    }\n",
       "</style>\n",
       "<table border=\"1\" class=\"dataframe\">\n",
       "  <thead>\n",
       "    <tr style=\"text-align: right;\">\n",
       "      <th></th>\n",
       "      <th>Country</th>\n",
       "      <th>22/01/2020</th>\n",
       "      <th>23/01/2020</th>\n",
       "      <th>24/01/2020</th>\n",
       "      <th>25/01/2020</th>\n",
       "      <th>26/01/2020</th>\n",
       "      <th>27/01/2020</th>\n",
       "      <th>28/01/2020</th>\n",
       "      <th>29/01/2020</th>\n",
       "      <th>30/01/2020</th>\n",
       "      <th>...</th>\n",
       "      <th>16/04/2020</th>\n",
       "      <th>17/04/2020</th>\n",
       "      <th>18/04/2020</th>\n",
       "      <th>19/04/2020</th>\n",
       "      <th>20/04/2020</th>\n",
       "      <th>21/04/2020</th>\n",
       "      <th>22/04/2020</th>\n",
       "      <th>23/04/2020</th>\n",
       "      <th>24/04/2020</th>\n",
       "      <th>25/04/2020</th>\n",
       "    </tr>\n",
       "  </thead>\n",
       "  <tbody>\n",
       "    <tr>\n",
       "      <th>249</th>\n",
       "      <td>Zambia</td>\n",
       "      <td>0.0</td>\n",
       "      <td>0.0</td>\n",
       "      <td>0.0</td>\n",
       "      <td>0.0</td>\n",
       "      <td>0.0</td>\n",
       "      <td>0.0</td>\n",
       "      <td>0.0</td>\n",
       "      <td>0.0</td>\n",
       "      <td>0.0</td>\n",
       "      <td>...</td>\n",
       "      <td>48.0</td>\n",
       "      <td>52.0</td>\n",
       "      <td>57.0</td>\n",
       "      <td>61.0</td>\n",
       "      <td>65.0</td>\n",
       "      <td>70.0</td>\n",
       "      <td>74.0</td>\n",
       "      <td>76.0</td>\n",
       "      <td>84.0</td>\n",
       "      <td>84.0</td>\n",
       "    </tr>\n",
       "    <tr>\n",
       "      <th>250</th>\n",
       "      <td>Zimbabwe</td>\n",
       "      <td>0.0</td>\n",
       "      <td>0.0</td>\n",
       "      <td>0.0</td>\n",
       "      <td>0.0</td>\n",
       "      <td>0.0</td>\n",
       "      <td>0.0</td>\n",
       "      <td>0.0</td>\n",
       "      <td>0.0</td>\n",
       "      <td>0.0</td>\n",
       "      <td>...</td>\n",
       "      <td>23.0</td>\n",
       "      <td>24.0</td>\n",
       "      <td>25.0</td>\n",
       "      <td>25.0</td>\n",
       "      <td>25.0</td>\n",
       "      <td>28.0</td>\n",
       "      <td>28.0</td>\n",
       "      <td>28.0</td>\n",
       "      <td>29.0</td>\n",
       "      <td>31.0</td>\n",
       "    </tr>\n",
       "    <tr>\n",
       "      <th>251</th>\n",
       "      <td>NaN</td>\n",
       "      <td>NaN</td>\n",
       "      <td>NaN</td>\n",
       "      <td>NaN</td>\n",
       "      <td>NaN</td>\n",
       "      <td>NaN</td>\n",
       "      <td>NaN</td>\n",
       "      <td>NaN</td>\n",
       "      <td>NaN</td>\n",
       "      <td>NaN</td>\n",
       "      <td>...</td>\n",
       "      <td>NaN</td>\n",
       "      <td>NaN</td>\n",
       "      <td>NaN</td>\n",
       "      <td>NaN</td>\n",
       "      <td>NaN</td>\n",
       "      <td>NaN</td>\n",
       "      <td>NaN</td>\n",
       "      <td>NaN</td>\n",
       "      <td>NaN</td>\n",
       "      <td>NaN</td>\n",
       "    </tr>\n",
       "    <tr>\n",
       "      <th>252</th>\n",
       "      <td>NaN</td>\n",
       "      <td>NaN</td>\n",
       "      <td>NaN</td>\n",
       "      <td>NaN</td>\n",
       "      <td>NaN</td>\n",
       "      <td>NaN</td>\n",
       "      <td>NaN</td>\n",
       "      <td>NaN</td>\n",
       "      <td>NaN</td>\n",
       "      <td>NaN</td>\n",
       "      <td>...</td>\n",
       "      <td>NaN</td>\n",
       "      <td>NaN</td>\n",
       "      <td>NaN</td>\n",
       "      <td>NaN</td>\n",
       "      <td>NaN</td>\n",
       "      <td>NaN</td>\n",
       "      <td>NaN</td>\n",
       "      <td>NaN</td>\n",
       "      <td>NaN</td>\n",
       "      <td>NaN</td>\n",
       "    </tr>\n",
       "    <tr>\n",
       "      <th>253</th>\n",
       "      <td>NaN</td>\n",
       "      <td>NaN</td>\n",
       "      <td>NaN</td>\n",
       "      <td>NaN</td>\n",
       "      <td>NaN</td>\n",
       "      <td>NaN</td>\n",
       "      <td>NaN</td>\n",
       "      <td>NaN</td>\n",
       "      <td>NaN</td>\n",
       "      <td>NaN</td>\n",
       "      <td>...</td>\n",
       "      <td>NaN</td>\n",
       "      <td>NaN</td>\n",
       "      <td>NaN</td>\n",
       "      <td>NaN</td>\n",
       "      <td>NaN</td>\n",
       "      <td>NaN</td>\n",
       "      <td>NaN</td>\n",
       "      <td>NaN</td>\n",
       "      <td>NaN</td>\n",
       "      <td>NaN</td>\n",
       "    </tr>\n",
       "  </tbody>\n",
       "</table>\n",
       "<p>5 rows × 96 columns</p>\n",
       "</div>"
      ],
      "text/plain": [
       "      Country  22/01/2020  23/01/2020  24/01/2020  25/01/2020  26/01/2020  \\\n",
       "249    Zambia         0.0         0.0         0.0         0.0         0.0   \n",
       "250  Zimbabwe         0.0         0.0         0.0         0.0         0.0   \n",
       "251       NaN         NaN         NaN         NaN         NaN         NaN   \n",
       "252       NaN         NaN         NaN         NaN         NaN         NaN   \n",
       "253       NaN         NaN         NaN         NaN         NaN         NaN   \n",
       "\n",
       "     27/01/2020  28/01/2020  29/01/2020  30/01/2020  ...  16/04/2020  \\\n",
       "249         0.0         0.0         0.0         0.0  ...        48.0   \n",
       "250         0.0         0.0         0.0         0.0  ...        23.0   \n",
       "251         NaN         NaN         NaN         NaN  ...         NaN   \n",
       "252         NaN         NaN         NaN         NaN  ...         NaN   \n",
       "253         NaN         NaN         NaN         NaN  ...         NaN   \n",
       "\n",
       "     17/04/2020  18/04/2020  19/04/2020  20/04/2020  21/04/2020  22/04/2020  \\\n",
       "249        52.0        57.0        61.0        65.0        70.0        74.0   \n",
       "250        24.0        25.0        25.0        25.0        28.0        28.0   \n",
       "251         NaN         NaN         NaN         NaN         NaN         NaN   \n",
       "252         NaN         NaN         NaN         NaN         NaN         NaN   \n",
       "253         NaN         NaN         NaN         NaN         NaN         NaN   \n",
       "\n",
       "     23/04/2020  24/04/2020  25/04/2020  \n",
       "249        76.0        84.0        84.0  \n",
       "250        28.0        29.0        31.0  \n",
       "251         NaN         NaN         NaN  \n",
       "252         NaN         NaN         NaN  \n",
       "253         NaN         NaN         NaN  \n",
       "\n",
       "[5 rows x 96 columns]"
      ]
     },
     "execution_count": 4,
     "metadata": {},
     "output_type": "execute_result"
    }
   ],
   "source": [
    "#renaming the column labels\n",
    "\n",
    "#df = df.rename(columns=lambda x: x+'x') \n",
    "cases_df= cases_df.rename(columns=lambda x:'0'+x+'2020')\n",
    "cases_df= cases_df.rename(columns={\"0CNTRYNAME2020\":\"Country\"})\n",
    "_convert_date_str(cases_df)\n",
    "cases_df.tail(5)"
   ]
  },
  {
   "cell_type": "code",
   "execution_count": 5,
   "metadata": {},
   "outputs": [
    {
     "data": {
      "text/html": [
       "<div>\n",
       "<style scoped>\n",
       "    .dataframe tbody tr th:only-of-type {\n",
       "        vertical-align: middle;\n",
       "    }\n",
       "\n",
       "    .dataframe tbody tr th {\n",
       "        vertical-align: top;\n",
       "    }\n",
       "\n",
       "    .dataframe thead th {\n",
       "        text-align: right;\n",
       "    }\n",
       "</style>\n",
       "<table border=\"1\" class=\"dataframe\">\n",
       "  <thead>\n",
       "    <tr style=\"text-align: right;\">\n",
       "      <th></th>\n",
       "      <th>Country</th>\n",
       "      <th>Date</th>\n",
       "      <th>Cases</th>\n",
       "    </tr>\n",
       "  </thead>\n",
       "  <tbody>\n",
       "    <tr>\n",
       "      <th>0</th>\n",
       "      <td>Aruba</td>\n",
       "      <td>2020-01-22</td>\n",
       "      <td>0.0</td>\n",
       "    </tr>\n",
       "    <tr>\n",
       "      <th>1</th>\n",
       "      <td>Antigua and Barbuda</td>\n",
       "      <td>2020-01-22</td>\n",
       "      <td>0.0</td>\n",
       "    </tr>\n",
       "    <tr>\n",
       "      <th>2</th>\n",
       "      <td>Afghanistan</td>\n",
       "      <td>2020-01-22</td>\n",
       "      <td>0.0</td>\n",
       "    </tr>\n",
       "    <tr>\n",
       "      <th>3</th>\n",
       "      <td>Algeria</td>\n",
       "      <td>2020-01-22</td>\n",
       "      <td>0.0</td>\n",
       "    </tr>\n",
       "    <tr>\n",
       "      <th>4</th>\n",
       "      <td>Azerbaijan</td>\n",
       "      <td>2020-01-22</td>\n",
       "      <td>0.0</td>\n",
       "    </tr>\n",
       "    <tr>\n",
       "      <th>...</th>\n",
       "      <td>...</td>\n",
       "      <td>...</td>\n",
       "      <td>...</td>\n",
       "    </tr>\n",
       "    <tr>\n",
       "      <th>24125</th>\n",
       "      <td>Zambia</td>\n",
       "      <td>2020-04-25</td>\n",
       "      <td>84.0</td>\n",
       "    </tr>\n",
       "    <tr>\n",
       "      <th>24126</th>\n",
       "      <td>Zimbabwe</td>\n",
       "      <td>2020-04-25</td>\n",
       "      <td>31.0</td>\n",
       "    </tr>\n",
       "    <tr>\n",
       "      <th>24127</th>\n",
       "      <td>NaN</td>\n",
       "      <td>2020-04-25</td>\n",
       "      <td>NaN</td>\n",
       "    </tr>\n",
       "    <tr>\n",
       "      <th>24128</th>\n",
       "      <td>NaN</td>\n",
       "      <td>2020-04-25</td>\n",
       "      <td>NaN</td>\n",
       "    </tr>\n",
       "    <tr>\n",
       "      <th>24129</th>\n",
       "      <td>NaN</td>\n",
       "      <td>2020-04-25</td>\n",
       "      <td>NaN</td>\n",
       "    </tr>\n",
       "  </tbody>\n",
       "</table>\n",
       "<p>24130 rows × 3 columns</p>\n",
       "</div>"
      ],
      "text/plain": [
       "                   Country       Date  Cases\n",
       "0                    Aruba 2020-01-22    0.0\n",
       "1      Antigua and Barbuda 2020-01-22    0.0\n",
       "2              Afghanistan 2020-01-22    0.0\n",
       "3                  Algeria 2020-01-22    0.0\n",
       "4               Azerbaijan 2020-01-22    0.0\n",
       "...                    ...        ...    ...\n",
       "24125               Zambia 2020-04-25   84.0\n",
       "24126             Zimbabwe 2020-04-25   31.0\n",
       "24127                  NaN 2020-04-25    NaN\n",
       "24128                  NaN 2020-04-25    NaN\n",
       "24129                  NaN 2020-04-25    NaN\n",
       "\n",
       "[24130 rows x 3 columns]"
      ]
     },
     "execution_count": 5,
     "metadata": {},
     "output_type": "execute_result"
    }
   ],
   "source": [
    "confirmed_melt_df=cases_df.melt(id_vars=['Country'], value_vars=cases_df.columns[1:],var_name='Date', value_name='Cases')\n",
    "\n",
    "confirmed_melt_df['Date'] = pd.to_datetime(confirmed_melt_df['Date'], format='%d/%m/%Y')\n",
    "confirmed_melt_df"
   ]
  },
  {
   "cell_type": "code",
   "execution_count": 6,
   "metadata": {},
   "outputs": [],
   "source": [
    "target_date = confirmed_melt_df['Date'].max()\n",
    "global_df=confirmed_melt_df.query('Date == @target_date')\n",
    "global_df['Confirmed'] = np.log10(global_df['Cases'] + 1)"
   ]
  },
  {
   "cell_type": "code",
   "execution_count": 7,
   "metadata": {
    "scrolled": true
   },
   "outputs": [
    {
     "data": {
      "application/vnd.plotly.v1+json": {
       "config": {
        "plotlyServerURL": "https://plot.ly"
       },
       "data": [
        {
         "coloraxis": "coloraxis",
         "customdata": [
          [
           0
          ],
          [
           24
          ],
          [
           1463
          ],
          [
           3256
          ],
          [
           1617
          ],
          [
           712
          ],
          [
           1677
          ],
          [
           738
          ],
          [
           25
          ],
          [
           0
          ],
          [
           3780
          ],
          [
           6694
          ],
          [
           15148
          ],
          [
           0
          ],
          [
           0
          ],
          [
           2588
          ],
          [
           79
          ],
          [
           22
          ],
          [
           0
          ],
          [
           45325
          ],
          [
           78
          ],
          [
           4998
          ],
          [
           18
          ],
          [
           1486
          ],
          [
           866
          ],
          [
           146
          ],
          [
           54
          ],
          [
           9590
          ],
          [
           0
          ],
          [
           59324
          ],
          [
           7
          ],
          [
           1247
          ],
          [
           0
          ],
          [
           138
          ],
          [
           11
          ],
          [
           45491
          ],
          [
           122
          ],
          [
           46
          ],
          [
           460
          ],
          [
           200
          ],
          [
           416
          ],
          [
           83909
          ],
          [
           12858
          ],
          [
           0
          ],
          [
           0
          ],
          [
           1518
          ],
          [
           0
          ],
          [
           5142
          ],
          [
           0
          ],
          [
           693
          ],
          [
           16
          ],
          [
           1337
          ],
          [
           90
          ],
          [
           0
          ],
          [
           810
          ],
          [
           8643
          ],
          [
           1008
          ],
          [
           16
          ],
          [
           0
          ],
          [
           5926
          ],
          [
           22719
          ],
          [
           4319
          ],
          [
           18561
          ],
          [
           258
          ],
          [
           1635
          ],
          [
           39
          ],
          [
           274
          ],
          [
           122
          ],
          [
           7352
          ],
          [
           0
          ],
          [
           4475
          ],
          [
           18
          ],
          [
           0
          ],
          [
           0
          ],
          [
           0
          ],
          [
           0
          ],
          [
           0
          ],
          [
           161644
          ],
          [
           0
          ],
          [
           10
          ],
          [
           176
          ],
          [
           456
          ],
          [
           1279
          ],
          [
           0
          ],
          [
           18
          ],
          [
           0
          ],
          [
           0
          ],
          [
           156513
          ],
          [
           0
          ],
          [
           0
          ],
          [
           0
          ],
          [
           2506
          ],
          [
           473
          ],
          [
           996
          ],
          [
           73
          ],
          [
           342
          ],
          [
           72
          ],
          [
           0
          ],
          [
           627
          ],
          [
           0
          ],
          [
           2016
          ],
          [
           2443
          ],
          [
           1790
          ],
          [
           8607
          ],
          [
           0
          ],
          [
           26283
          ],
          [
           0
          ],
          [
           89328
          ],
          [
           15298
          ],
          [
           195351
          ],
          [
           1077
          ],
          [
           1763
          ],
          [
           13231
          ],
          [
           0
          ],
          [
           305
          ],
          [
           0
          ],
          [
           444
          ],
          [
           0
          ],
          [
           0
          ],
          [
           343
          ],
          [
           665
          ],
          [
           0
          ],
          [
           0
          ],
          [
           10728
          ],
          [
           0
          ],
          [
           2892
          ],
          [
           2601
          ],
          [
           19
          ],
          [
           704
          ],
          [
           804
          ],
          [
           1426
          ],
          [
           120
          ],
          [
           1373
          ],
          [
           81
          ],
          [
           0
          ],
          [
           3711
          ],
          [
           61
          ],
          [
           123
          ],
          [
           0
          ],
          [
           0
          ],
          [
           3304
          ],
          [
           0
          ],
          [
           37
          ],
          [
           0
          ],
          [
           33
          ],
          [
           1367
          ],
          [
           370
          ],
          [
           94
          ],
          [
           3897
          ],
          [
           331
          ],
          [
           0
          ],
          [
           7
          ],
          [
           448
          ],
          [
           1905
          ],
          [
           177
          ],
          [
           320
          ],
          [
           13842
          ],
          [
           5742
          ],
          [
           70
          ],
          [
           0
          ],
          [
           0
          ],
          [
           0
          ],
          [
           684
          ],
          [
           0
          ],
          [
           1182
          ],
          [
           37384
          ],
          [
           7499
          ],
          [
           49
          ],
          [
           0
          ],
          [
           10
          ],
          [
           0
          ],
          [
           12
          ],
          [
           1470
          ],
          [
           228
          ],
          [
           0
          ],
          [
           25331
          ],
          [
           0
          ],
          [
           0
          ],
          [
           12723
          ],
          [
           11273
          ],
          [
           5538
          ],
          [
           23392
          ],
          [
           8
          ],
          [
           0
          ],
          [
           52
          ],
          [
           9358
          ],
          [
           0
          ],
          [
           0
          ],
          [
           10635
          ],
          [
           7294
          ],
          [
           0
          ],
          [
           74588
          ],
          [
           183
          ],
          [
           16299
          ],
          [
           0
          ],
          [
           15
          ],
          [
           11
          ],
          [
           4361
          ],
          [
           614
          ],
          [
           0
          ],
          [
           1388
          ],
          [
           82
          ],
          [
           513
          ],
          [
           12693
          ],
          [
           390
          ],
          [
           223759
          ],
          [
           6630
          ],
          [
           15
          ],
          [
           213
          ],
          [
           0
          ],
          [
           18177
          ],
          [
           0
          ],
          [
           42
          ],
          [
           28894
          ],
          [
           9813
          ],
          [
           115
          ],
          [
           2907
          ],
          [
           0
          ],
          [
           0
          ],
          [
           0
          ],
          [
           0
          ],
          [
           96
          ],
          [
           4
          ],
          [
           939
          ],
          [
           107773
          ],
          [
           0
          ],
          [
           429
          ],
          [
           0
          ],
          [
           299
          ],
          [
           75
          ],
          [
           149569
          ],
          [
           8125
          ],
          [
           938154
          ],
          [
           629
          ],
          [
           596
          ],
          [
           1862
          ],
          [
           14
          ],
          [
           323
          ],
          [
           0
          ],
          [
           270
          ],
          [
           0
          ],
          [
           16
          ],
          [
           0
          ],
          [
           0
          ],
          [
           6
          ],
          [
           0
          ],
          [
           0
          ],
          [
           56
          ],
          [
           1
          ],
          [
           84
          ],
          [
           31
          ],
          [
           null
          ],
          [
           null
          ],
          [
           null
          ]
         ],
         "geo": "geo",
         "hovertemplate": "Country=%{location}<br>Cases=%{customdata[0]}<br>Confirmed=%{z}<extra></extra>",
         "locationmode": "country names",
         "locations": [
          "Aruba",
          "Antigua and Barbuda",
          "Afghanistan",
          "Algeria",
          "Azerbaijan",
          "Albania",
          "Armenia",
          "Andorra",
          "Angola",
          "American Samoa",
          "Argentina",
          "Australia",
          "Austria",
          "Anguilla",
          "Antarctica",
          "Bahrain",
          "Barbados",
          "Botswana",
          "Bermuda",
          "Belgium",
          "Bahamas, The",
          "Bangladesh",
          "Belize",
          "Bosnia and Herzegovina",
          "Bolivia",
          "Myanmar (Burma)",
          "Benin",
          "Byelarus",
          "Solomon Islands",
          "Brazil",
          "Bhutan",
          "Bulgaria",
          "Bouvet Island",
          "Brunei",
          "Burundi",
          "Canada",
          "Cambodia",
          "Chad",
          "Sri Lanka",
          "Congo",
          "Zaire",
          "China",
          "Chile",
          "Cayman Islands",
          "Cocos (Keeling) Islands",
          "Cameroon",
          "Comoros",
          "Colombia",
          "Northern Mariana Islands",
          "Costa Rica",
          "Central African Republic",
          "Cuba",
          "Cape Verde",
          "Cook Islands",
          "Cyprus",
          "Denmark",
          "Djibouti",
          "Dominica",
          "Jarvis Island",
          "Dominican Republic",
          "Ecuador",
          "Egypt",
          "Ireland",
          "Equatorial Guinea",
          "Estonia",
          "Eritrea",
          "El Salvador",
          "Ethiopia",
          "Czech Republic",
          "French Guiana",
          "Finland",
          "Fiji",
          "Falkland Islands (Islas Malvinas)",
          "Federated States of Micronesia",
          "Faroe Islands",
          "French Polynesia",
          "Baker Island",
          "France",
          "French Southern & Antarctic Lands",
          "Gambia, The",
          "Gabon",
          "Georgia",
          "Ghana",
          "Gibraltar",
          "Grenada",
          "Guernsey",
          "Greenland",
          "Germany",
          "Glorioso Islands",
          "Guadeloupe",
          "Guam",
          "Greece",
          "Guatemala",
          "Guinea",
          "Guyana",
          "Gaza Strip",
          "Haiti",
          "Heard Island & McDonald Islands",
          "Honduras",
          "Howland Island",
          "Croatia",
          "Hungary",
          "Iceland",
          "Indonesia",
          "Man, Isle of",
          "India",
          "British Indian Ocean Territory",
          "Iran",
          "Israel",
          "Italy",
          "Ivory Coast",
          "Iraq",
          "Japan",
          "Jersey",
          "Jamaica",
          "Jan Mayen",
          "Jordan",
          "Johnston Atoll",
          "Juan De Nova Island",
          "Kenya",
          "Kyrgyzstan",
          "North Korea",
          "Kiribati",
          "South Korea",
          "Christmas Island",
          "Kuwait",
          "Kazakhstan",
          "Laos",
          "Lebanon",
          "Latvia",
          "Lithuania",
          "Liberia",
          "Slovakia",
          "Liechtenstein",
          "Lesotho",
          "Luxembourg",
          "Libya",
          "Madagascar",
          "Martinique",
          "Macau",
          "Moldova",
          "Mayotte",
          "Mongolia",
          "Montserrat",
          "Malawi",
          "Macedonia",
          "Mali",
          "Monaco",
          "Morocco",
          "Mauritius",
          "Midway Islands",
          "Mauritania",
          "Malta",
          "Oman",
          "Maldives",
          "Montenegro",
          "Mexico",
          "Malaysia",
          "Mozambique",
          "New Caledonia",
          "Niue",
          "Norfolk Island",
          "Niger",
          "Vanuatu",
          "Nigeria",
          "Netherlands",
          "Norway",
          "Nepal",
          "Nauru",
          "Suriname",
          "Netherlands Antilles",
          "Nicaragua",
          "New Zealand",
          "Paraguay",
          "Pitcairn Islands",
          "Peru",
          "Paracel Islands",
          "Spratly Islands",
          "Pakistan",
          "Poland",
          "Panama",
          "Portugal",
          "Papua New Guinea",
          "Pacific Islands (Palau)",
          "Guinea-Bissau",
          "Qatar",
          "Reunion",
          "Marshall Islands",
          "Romania",
          "Philippines",
          "Puerto Rico",
          "Russia",
          "Rwanda",
          "Saudi Arabia",
          "St. Pierre and Miquelon",
          "St. Kitts and Nevis",
          "Seychelles",
          "South Africa",
          "Senegal",
          "St. Helena",
          "Slovenia",
          "Sierra Leone",
          "San Marino",
          "Singapore",
          "Somalia",
          "Spain",
          "Serbia",
          "St. Lucia",
          "Sudan",
          "Svalbard",
          "Sweden",
          "South Georgia and the South Sandwich Is",
          "Syria",
          "Switzerland",
          "United Arab Emirates",
          "Trinidad and Tobago",
          "Thailand",
          "Tajikistan",
          "Turks and Caicos Islands",
          "Tokelau",
          "Tonga",
          "Togo",
          "Sao Tome and Principe",
          "Tunisia",
          "Turkey",
          "Tuvalu",
          "Taiwan",
          "Turkmenistan",
          "Tanzania, United Republic of",
          "Uganda",
          "United Kingdom",
          "Ukraine",
          "United States",
          "Burkina Faso",
          "Uruguay",
          "Uzbekistan",
          "St. Vincent and the Grenadines",
          "Venezuela",
          "British Virgin Islands",
          "Vietnam",
          "Virgin Islands",
          "Namibia",
          "West Bank",
          "Wallis and Futuna",
          "Western Sahara",
          "Wake Island",
          "Western Samoa",
          "Swaziland",
          "Yemen",
          "Zambia",
          "Zimbabwe",
          null,
          null,
          null
         ],
         "name": "",
         "type": "choropleth",
         "z": [
          0,
          1.3979400086720377,
          3.165541076722373,
          3.512817758564873,
          3.2089785172762535,
          2.8530895298518657,
          3.2247919564926817,
          2.8686444383948255,
          1.414973347970818,
          0,
          3.5776066773625357,
          3.8257505813480277,
          4.180383965589764,
          0,
          0,
          3.413132050434872,
          1.9030899869919435,
          1.3617278360175928,
          0,
          4.656347394448541,
          1.8976270912904414,
          3.69888313675259,
          1.2787536009528289,
          3.172310968521954,
          2.9380190974762104,
          2.167317334748176,
          1.7403626894942439,
          3.98186389099135,
          0,
          4.773237746889377,
          0.9030899869919435,
          3.0962145853464054,
          0,
          2.143014800254095,
          1.0791812460476249,
          4.657935030474059,
          2.089905111439398,
          1.6720978579357175,
          2.663700925389648,
          2.303196057420489,
          2.6201360549737576,
          4.923813721091189,
          4.109207196320066,
          0,
          0,
          3.1815577738627865,
          0,
          3.71121652432109,
          0,
          2.841359470454855,
          1.2304489213782739,
          3.1264561134318045,
          1.9590413923210936,
          0,
          2.909020854211156,
          3.936714758211204,
          3.0038911662369103,
          1.2304489213782739,
          0,
          3.772834927239018,
          4.356408327038981,
          3.635483746814912,
          4.268624768335871,
          2.413299764081252,
          3.2137832993353044,
          1.6020599913279623,
          2.439332693830263,
          2.089905111439398,
          3.8664645659717403,
          0,
          3.6508900778563125,
          1.2787536009528289,
          0,
          0,
          0,
          0,
          0,
          5.208562275566856,
          0,
          1.0413926851582251,
          2.247973266361807,
          2.6599162000698504,
          3.1072099696478683,
          0,
          1.2787536009528289,
          0,
          0,
          5.1945531907694225,
          0,
          0,
          0,
          3.3991543339582164,
          2.6757783416740852,
          2.998695158311656,
          1.8692317197309762,
          2.5352941200427703,
          1.863322860120456,
          0,
          2.797959643737196,
          0,
          3.3047058982127653,
          3.3881012015705165,
          3.2530955858490316,
          3.934902258322314,
          0,
          4.419691458518478,
          0,
          4.950992472274792,
          4.18466304462968,
          5.290817861859844,
          3.03261876085072,
          3.246498580795801,
          4.121625492208471,
          0,
          2.48572142648158,
          0,
          2.6483600109809315,
          0,
          0,
          2.53655844257153,
          2.823474229170301,
          0,
          0,
          4.030559245291156,
          0,
          3.461348433647983,
          3.4153072922255676,
          1.3010299956639813,
          2.848189116991399,
          2.9057958803678687,
          3.154423973114647,
          2.0827853703164503,
          3.137986732723532,
          1.9138138523837167,
          0,
          3.5696079675468244,
          1.792391689498254,
          2.093421685162235,
          0,
          0,
          3.519171463821659,
          0,
          1.5797835966168101,
          0,
          1.5314789170422551,
          3.1360860973840974,
          2.569373909615046,
          1.9777236052888478,
          3.5908418347816027,
          2.5211380837040362,
          0,
          0.9030899869919435,
          2.6522463410033232,
          3.2801228963023075,
          2.250420002308894,
          2.506505032404872,
          4.14123021889658,
          3.7591388162811663,
          1.8512583487190752,
          0,
          0,
          0,
          2.8356905714924254,
          0,
          3.0729847446279304,
          4.572697384982698,
          3.8750612633917,
          1.6989700043360187,
          0,
          1.0413926851582251,
          0,
          1.1139433523068367,
          3.16761267272753,
          2.359835482339888,
          0,
          4.4036694793552815,
          0,
          0,
          4.104623660435326,
          4.052078030484169,
          3.7434313651466837,
          4.369085920821508,
          0.9542425094393249,
          0,
          1.724275869600789,
          3.971229447276241,
          0,
          0,
          4.026778328659529,
          3.86302529622947,
          0,
          4.872674784690566,
          2.2648178230095364,
          4.212187604403958,
          0,
          1.2041199826559248,
          1.0791812460476249,
          3.6396856612426816,
          2.788875115775417,
          0,
          3.1427022457376155,
          1.919078092376074,
          2.710963118995276,
          4.1035984939779375,
          2.5921767573958667,
          5.349782453363471,
          3.821579027912009,
          1.2041199826559248,
          2.330413773349191,
          0,
          4.259546099087022,
          0,
          1.6334684555795864,
          4.460822698802402,
          3.9918460536448968,
          2.0644579892269186,
          3.463594402187,
          0,
          0,
          0,
          0,
          1.9867717342662448,
          0.6989700043360189,
          2.9731278535996988,
          5.032514001866944,
          0,
          2.6334684555795866,
          0,
          2.4771212547196626,
          1.8808135922807914,
          5.174844493655455,
          3.909876817990393,
          5.972274597529932,
          2.7993405494535817,
          2.775974331129369,
          3.2702128548962426,
          1.1760912590556813,
          2.510545010206612,
          0,
          2.432969290874406,
          0,
          1.2304489213782739,
          0,
          0,
          0.8450980400142568,
          0,
          0,
          1.7558748556724915,
          0.3010299956639812,
          1.9294189257142926,
          1.505149978319906,
          null,
          null,
          null
         ]
        }
       ],
       "layout": {
        "coloraxis": {
         "cmax": 5.972274597529932,
         "cmin": 0,
         "colorbar": {
          "title": {
           "text": "Confirmed"
          }
         },
         "colorscale": [
          [
           0,
           "rgb(255,245,240)"
          ],
          [
           0.125,
           "rgb(254,224,210)"
          ],
          [
           0.25,
           "rgb(252,187,161)"
          ],
          [
           0.375,
           "rgb(252,146,114)"
          ],
          [
           0.5,
           "rgb(251,106,74)"
          ],
          [
           0.625,
           "rgb(239,59,44)"
          ],
          [
           0.75,
           "rgb(203,24,29)"
          ],
          [
           0.875,
           "rgb(165,15,21)"
          ],
          [
           1,
           "rgb(103,0,13)"
          ]
         ]
        },
        "geo": {
         "center": {},
         "domain": {
          "x": [
           0,
           1
          ],
          "y": [
           0,
           1
          ]
         }
        },
        "legend": {
         "tracegroupgap": 0
        },
        "template": {
         "data": {
          "bar": [
           {
            "error_x": {
             "color": "#f2f5fa"
            },
            "error_y": {
             "color": "#f2f5fa"
            },
            "marker": {
             "line": {
              "color": "rgb(17,17,17)",
              "width": 0.5
             }
            },
            "type": "bar"
           }
          ],
          "barpolar": [
           {
            "marker": {
             "line": {
              "color": "rgb(17,17,17)",
              "width": 0.5
             }
            },
            "type": "barpolar"
           }
          ],
          "carpet": [
           {
            "aaxis": {
             "endlinecolor": "#A2B1C6",
             "gridcolor": "#506784",
             "linecolor": "#506784",
             "minorgridcolor": "#506784",
             "startlinecolor": "#A2B1C6"
            },
            "baxis": {
             "endlinecolor": "#A2B1C6",
             "gridcolor": "#506784",
             "linecolor": "#506784",
             "minorgridcolor": "#506784",
             "startlinecolor": "#A2B1C6"
            },
            "type": "carpet"
           }
          ],
          "choropleth": [
           {
            "colorbar": {
             "outlinewidth": 0,
             "ticks": ""
            },
            "type": "choropleth"
           }
          ],
          "contour": [
           {
            "colorbar": {
             "outlinewidth": 0,
             "ticks": ""
            },
            "colorscale": [
             [
              0,
              "#0d0887"
             ],
             [
              0.1111111111111111,
              "#46039f"
             ],
             [
              0.2222222222222222,
              "#7201a8"
             ],
             [
              0.3333333333333333,
              "#9c179e"
             ],
             [
              0.4444444444444444,
              "#bd3786"
             ],
             [
              0.5555555555555556,
              "#d8576b"
             ],
             [
              0.6666666666666666,
              "#ed7953"
             ],
             [
              0.7777777777777778,
              "#fb9f3a"
             ],
             [
              0.8888888888888888,
              "#fdca26"
             ],
             [
              1,
              "#f0f921"
             ]
            ],
            "type": "contour"
           }
          ],
          "contourcarpet": [
           {
            "colorbar": {
             "outlinewidth": 0,
             "ticks": ""
            },
            "type": "contourcarpet"
           }
          ],
          "heatmap": [
           {
            "colorbar": {
             "outlinewidth": 0,
             "ticks": ""
            },
            "colorscale": [
             [
              0,
              "#0d0887"
             ],
             [
              0.1111111111111111,
              "#46039f"
             ],
             [
              0.2222222222222222,
              "#7201a8"
             ],
             [
              0.3333333333333333,
              "#9c179e"
             ],
             [
              0.4444444444444444,
              "#bd3786"
             ],
             [
              0.5555555555555556,
              "#d8576b"
             ],
             [
              0.6666666666666666,
              "#ed7953"
             ],
             [
              0.7777777777777778,
              "#fb9f3a"
             ],
             [
              0.8888888888888888,
              "#fdca26"
             ],
             [
              1,
              "#f0f921"
             ]
            ],
            "type": "heatmap"
           }
          ],
          "heatmapgl": [
           {
            "colorbar": {
             "outlinewidth": 0,
             "ticks": ""
            },
            "colorscale": [
             [
              0,
              "#0d0887"
             ],
             [
              0.1111111111111111,
              "#46039f"
             ],
             [
              0.2222222222222222,
              "#7201a8"
             ],
             [
              0.3333333333333333,
              "#9c179e"
             ],
             [
              0.4444444444444444,
              "#bd3786"
             ],
             [
              0.5555555555555556,
              "#d8576b"
             ],
             [
              0.6666666666666666,
              "#ed7953"
             ],
             [
              0.7777777777777778,
              "#fb9f3a"
             ],
             [
              0.8888888888888888,
              "#fdca26"
             ],
             [
              1,
              "#f0f921"
             ]
            ],
            "type": "heatmapgl"
           }
          ],
          "histogram": [
           {
            "marker": {
             "colorbar": {
              "outlinewidth": 0,
              "ticks": ""
             }
            },
            "type": "histogram"
           }
          ],
          "histogram2d": [
           {
            "colorbar": {
             "outlinewidth": 0,
             "ticks": ""
            },
            "colorscale": [
             [
              0,
              "#0d0887"
             ],
             [
              0.1111111111111111,
              "#46039f"
             ],
             [
              0.2222222222222222,
              "#7201a8"
             ],
             [
              0.3333333333333333,
              "#9c179e"
             ],
             [
              0.4444444444444444,
              "#bd3786"
             ],
             [
              0.5555555555555556,
              "#d8576b"
             ],
             [
              0.6666666666666666,
              "#ed7953"
             ],
             [
              0.7777777777777778,
              "#fb9f3a"
             ],
             [
              0.8888888888888888,
              "#fdca26"
             ],
             [
              1,
              "#f0f921"
             ]
            ],
            "type": "histogram2d"
           }
          ],
          "histogram2dcontour": [
           {
            "colorbar": {
             "outlinewidth": 0,
             "ticks": ""
            },
            "colorscale": [
             [
              0,
              "#0d0887"
             ],
             [
              0.1111111111111111,
              "#46039f"
             ],
             [
              0.2222222222222222,
              "#7201a8"
             ],
             [
              0.3333333333333333,
              "#9c179e"
             ],
             [
              0.4444444444444444,
              "#bd3786"
             ],
             [
              0.5555555555555556,
              "#d8576b"
             ],
             [
              0.6666666666666666,
              "#ed7953"
             ],
             [
              0.7777777777777778,
              "#fb9f3a"
             ],
             [
              0.8888888888888888,
              "#fdca26"
             ],
             [
              1,
              "#f0f921"
             ]
            ],
            "type": "histogram2dcontour"
           }
          ],
          "mesh3d": [
           {
            "colorbar": {
             "outlinewidth": 0,
             "ticks": ""
            },
            "type": "mesh3d"
           }
          ],
          "parcoords": [
           {
            "line": {
             "colorbar": {
              "outlinewidth": 0,
              "ticks": ""
             }
            },
            "type": "parcoords"
           }
          ],
          "pie": [
           {
            "automargin": true,
            "type": "pie"
           }
          ],
          "scatter": [
           {
            "marker": {
             "line": {
              "color": "#283442"
             }
            },
            "type": "scatter"
           }
          ],
          "scatter3d": [
           {
            "line": {
             "colorbar": {
              "outlinewidth": 0,
              "ticks": ""
             }
            },
            "marker": {
             "colorbar": {
              "outlinewidth": 0,
              "ticks": ""
             }
            },
            "type": "scatter3d"
           }
          ],
          "scattercarpet": [
           {
            "marker": {
             "colorbar": {
              "outlinewidth": 0,
              "ticks": ""
             }
            },
            "type": "scattercarpet"
           }
          ],
          "scattergeo": [
           {
            "marker": {
             "colorbar": {
              "outlinewidth": 0,
              "ticks": ""
             }
            },
            "type": "scattergeo"
           }
          ],
          "scattergl": [
           {
            "marker": {
             "line": {
              "color": "#283442"
             }
            },
            "type": "scattergl"
           }
          ],
          "scattermapbox": [
           {
            "marker": {
             "colorbar": {
              "outlinewidth": 0,
              "ticks": ""
             }
            },
            "type": "scattermapbox"
           }
          ],
          "scatterpolar": [
           {
            "marker": {
             "colorbar": {
              "outlinewidth": 0,
              "ticks": ""
             }
            },
            "type": "scatterpolar"
           }
          ],
          "scatterpolargl": [
           {
            "marker": {
             "colorbar": {
              "outlinewidth": 0,
              "ticks": ""
             }
            },
            "type": "scatterpolargl"
           }
          ],
          "scatterternary": [
           {
            "marker": {
             "colorbar": {
              "outlinewidth": 0,
              "ticks": ""
             }
            },
            "type": "scatterternary"
           }
          ],
          "surface": [
           {
            "colorbar": {
             "outlinewidth": 0,
             "ticks": ""
            },
            "colorscale": [
             [
              0,
              "#0d0887"
             ],
             [
              0.1111111111111111,
              "#46039f"
             ],
             [
              0.2222222222222222,
              "#7201a8"
             ],
             [
              0.3333333333333333,
              "#9c179e"
             ],
             [
              0.4444444444444444,
              "#bd3786"
             ],
             [
              0.5555555555555556,
              "#d8576b"
             ],
             [
              0.6666666666666666,
              "#ed7953"
             ],
             [
              0.7777777777777778,
              "#fb9f3a"
             ],
             [
              0.8888888888888888,
              "#fdca26"
             ],
             [
              1,
              "#f0f921"
             ]
            ],
            "type": "surface"
           }
          ],
          "table": [
           {
            "cells": {
             "fill": {
              "color": "#506784"
             },
             "line": {
              "color": "rgb(17,17,17)"
             }
            },
            "header": {
             "fill": {
              "color": "#2a3f5f"
             },
             "line": {
              "color": "rgb(17,17,17)"
             }
            },
            "type": "table"
           }
          ]
         },
         "layout": {
          "annotationdefaults": {
           "arrowcolor": "#f2f5fa",
           "arrowhead": 0,
           "arrowwidth": 1
          },
          "coloraxis": {
           "colorbar": {
            "outlinewidth": 0,
            "ticks": ""
           }
          },
          "colorscale": {
           "diverging": [
            [
             0,
             "#8e0152"
            ],
            [
             0.1,
             "#c51b7d"
            ],
            [
             0.2,
             "#de77ae"
            ],
            [
             0.3,
             "#f1b6da"
            ],
            [
             0.4,
             "#fde0ef"
            ],
            [
             0.5,
             "#f7f7f7"
            ],
            [
             0.6,
             "#e6f5d0"
            ],
            [
             0.7,
             "#b8e186"
            ],
            [
             0.8,
             "#7fbc41"
            ],
            [
             0.9,
             "#4d9221"
            ],
            [
             1,
             "#276419"
            ]
           ],
           "sequential": [
            [
             0,
             "#0d0887"
            ],
            [
             0.1111111111111111,
             "#46039f"
            ],
            [
             0.2222222222222222,
             "#7201a8"
            ],
            [
             0.3333333333333333,
             "#9c179e"
            ],
            [
             0.4444444444444444,
             "#bd3786"
            ],
            [
             0.5555555555555556,
             "#d8576b"
            ],
            [
             0.6666666666666666,
             "#ed7953"
            ],
            [
             0.7777777777777778,
             "#fb9f3a"
            ],
            [
             0.8888888888888888,
             "#fdca26"
            ],
            [
             1,
             "#f0f921"
            ]
           ],
           "sequentialminus": [
            [
             0,
             "#0d0887"
            ],
            [
             0.1111111111111111,
             "#46039f"
            ],
            [
             0.2222222222222222,
             "#7201a8"
            ],
            [
             0.3333333333333333,
             "#9c179e"
            ],
            [
             0.4444444444444444,
             "#bd3786"
            ],
            [
             0.5555555555555556,
             "#d8576b"
            ],
            [
             0.6666666666666666,
             "#ed7953"
            ],
            [
             0.7777777777777778,
             "#fb9f3a"
            ],
            [
             0.8888888888888888,
             "#fdca26"
            ],
            [
             1,
             "#f0f921"
            ]
           ]
          },
          "colorway": [
           "#636efa",
           "#EF553B",
           "#00cc96",
           "#ab63fa",
           "#FFA15A",
           "#19d3f3",
           "#FF6692",
           "#B6E880",
           "#FF97FF",
           "#FECB52"
          ],
          "font": {
           "color": "#f2f5fa"
          },
          "geo": {
           "bgcolor": "rgb(17,17,17)",
           "lakecolor": "rgb(17,17,17)",
           "landcolor": "rgb(17,17,17)",
           "showlakes": true,
           "showland": true,
           "subunitcolor": "#506784"
          },
          "hoverlabel": {
           "align": "left"
          },
          "hovermode": "closest",
          "mapbox": {
           "style": "dark"
          },
          "paper_bgcolor": "rgb(17,17,17)",
          "plot_bgcolor": "rgb(17,17,17)",
          "polar": {
           "angularaxis": {
            "gridcolor": "#506784",
            "linecolor": "#506784",
            "ticks": ""
           },
           "bgcolor": "rgb(17,17,17)",
           "radialaxis": {
            "gridcolor": "#506784",
            "linecolor": "#506784",
            "ticks": ""
           }
          },
          "scene": {
           "xaxis": {
            "backgroundcolor": "rgb(17,17,17)",
            "gridcolor": "#506784",
            "gridwidth": 2,
            "linecolor": "#506784",
            "showbackground": true,
            "ticks": "",
            "zerolinecolor": "#C8D4E3"
           },
           "yaxis": {
            "backgroundcolor": "rgb(17,17,17)",
            "gridcolor": "#506784",
            "gridwidth": 2,
            "linecolor": "#506784",
            "showbackground": true,
            "ticks": "",
            "zerolinecolor": "#C8D4E3"
           },
           "zaxis": {
            "backgroundcolor": "rgb(17,17,17)",
            "gridcolor": "#506784",
            "gridwidth": 2,
            "linecolor": "#506784",
            "showbackground": true,
            "ticks": "",
            "zerolinecolor": "#C8D4E3"
           }
          },
          "shapedefaults": {
           "line": {
            "color": "#f2f5fa"
           }
          },
          "sliderdefaults": {
           "bgcolor": "#C8D4E3",
           "bordercolor": "rgb(17,17,17)",
           "borderwidth": 1,
           "tickwidth": 0
          },
          "ternary": {
           "aaxis": {
            "gridcolor": "#506784",
            "linecolor": "#506784",
            "ticks": ""
           },
           "baxis": {
            "gridcolor": "#506784",
            "linecolor": "#506784",
            "ticks": ""
           },
           "bgcolor": "rgb(17,17,17)",
           "caxis": {
            "gridcolor": "#506784",
            "linecolor": "#506784",
            "ticks": ""
           }
          },
          "title": {
           "x": 0.05
          },
          "updatemenudefaults": {
           "bgcolor": "#506784",
           "borderwidth": 0
          },
          "xaxis": {
           "automargin": true,
           "gridcolor": "#283442",
           "linecolor": "#506784",
           "ticks": "",
           "title": {
            "standoff": 15
           },
           "zerolinecolor": "#283442",
           "zerolinewidth": 2
          },
          "yaxis": {
           "automargin": true,
           "gridcolor": "#283442",
           "linecolor": "#506784",
           "ticks": "",
           "title": {
            "standoff": 15
           },
           "zerolinecolor": "#283442",
           "zerolinewidth": 2
          }
         }
        },
        "title": {
         "text": "Countries with Confirmed Cases"
        }
       }
      },
      "text/html": [
       "<div>                            <div id=\"0014f8d8-c42e-4bbb-8917-a321ffa747ac\" class=\"plotly-graph-div\" style=\"height:525px; width:100%;\"></div>            <script type=\"text/javascript\">                require([\"plotly\"], function(Plotly) {                    window.PLOTLYENV=window.PLOTLYENV || {};                                    if (document.getElementById(\"0014f8d8-c42e-4bbb-8917-a321ffa747ac\")) {                    Plotly.newPlot(                        \"0014f8d8-c42e-4bbb-8917-a321ffa747ac\",                        [{\"coloraxis\": \"coloraxis\", \"customdata\": [[0.0], [24.0], [1463.0], [3256.0], [1617.0], [712.0], [1677.0], [738.0], [25.0], [0.0], [3780.0], [6694.0], [15148.0], [0.0], [0.0], [2588.0], [79.0], [22.0], [0.0], [45325.0], [78.0], [4998.0], [18.0], [1486.0], [866.0], [146.0], [54.0], [9590.0], [0.0], [59324.0], [7.0], [1247.0], [0.0], [138.0], [11.0], [45491.0], [122.0], [46.0], [460.0], [200.0], [416.0], [83909.0], [12858.0], [0.0], [0.0], [1518.0], [0.0], [5142.0], [0.0], [693.0], [16.0], [1337.0], [90.0], [0.0], [810.0], [8643.0], [1008.0], [16.0], [0.0], [5926.0], [22719.0], [4319.0], [18561.0], [258.0], [1635.0], [39.0], [274.0], [122.0], [7352.0], [0.0], [4475.0], [18.0], [0.0], [0.0], [0.0], [0.0], [0.0], [161644.0], [0.0], [10.0], [176.0], [456.0], [1279.0], [0.0], [18.0], [0.0], [0.0], [156513.0], [0.0], [0.0], [0.0], [2506.0], [473.0], [996.0], [73.0], [342.0], [72.0], [0.0], [627.0], [0.0], [2016.0], [2443.0], [1790.0], [8607.0], [0.0], [26283.0], [0.0], [89328.0], [15298.0], [195351.0], [1077.0], [1763.0], [13231.0], [0.0], [305.0], [0.0], [444.0], [0.0], [0.0], [343.0], [665.0], [0.0], [0.0], [10728.0], [0.0], [2892.0], [2601.0], [19.0], [704.0], [804.0], [1426.0], [120.0], [1373.0], [81.0], [0.0], [3711.0], [61.0], [123.0], [0.0], [0.0], [3304.0], [0.0], [37.0], [0.0], [33.0], [1367.0], [370.0], [94.0], [3897.0], [331.0], [0.0], [7.0], [448.0], [1905.0], [177.0], [320.0], [13842.0], [5742.0], [70.0], [0.0], [0.0], [0.0], [684.0], [0.0], [1182.0], [37384.0], [7499.0], [49.0], [0.0], [10.0], [0.0], [12.0], [1470.0], [228.0], [0.0], [25331.0], [0.0], [0.0], [12723.0], [11273.0], [5538.0], [23392.0], [8.0], [0.0], [52.0], [9358.0], [0.0], [0.0], [10635.0], [7294.0], [0.0], [74588.0], [183.0], [16299.0], [0.0], [15.0], [11.0], [4361.0], [614.0], [0.0], [1388.0], [82.0], [513.0], [12693.0], [390.0], [223759.0], [6630.0], [15.0], [213.0], [0.0], [18177.0], [0.0], [42.0], [28894.0], [9813.0], [115.0], [2907.0], [0.0], [0.0], [0.0], [0.0], [96.0], [4.0], [939.0], [107773.0], [0.0], [429.0], [0.0], [299.0], [75.0], [149569.0], [8125.0], [938154.0], [629.0], [596.0], [1862.0], [14.0], [323.0], [0.0], [270.0], [0.0], [16.0], [0.0], [0.0], [6.0], [0.0], [0.0], [56.0], [1.0], [84.0], [31.0], [null], [null], [null]], \"geo\": \"geo\", \"hovertemplate\": \"Country=%{location}<br>Cases=%{customdata[0]}<br>Confirmed=%{z}<extra></extra>\", \"locationmode\": \"country names\", \"locations\": [\"Aruba\", \"Antigua and Barbuda\", \"Afghanistan\", \"Algeria\", \"Azerbaijan\", \"Albania\", \"Armenia\", \"Andorra\", \"Angola\", \"American Samoa\", \"Argentina\", \"Australia\", \"Austria\", \"Anguilla\", \"Antarctica\", \"Bahrain\", \"Barbados\", \"Botswana\", \"Bermuda\", \"Belgium\", \"Bahamas, The\", \"Bangladesh\", \"Belize\", \"Bosnia and Herzegovina\", \"Bolivia\", \"Myanmar (Burma)\", \"Benin\", \"Byelarus\", \"Solomon Islands\", \"Brazil\", \"Bhutan\", \"Bulgaria\", \"Bouvet Island\", \"Brunei\", \"Burundi\", \"Canada\", \"Cambodia\", \"Chad\", \"Sri Lanka\", \"Congo\", \"Zaire\", \"China\", \"Chile\", \"Cayman Islands\", \"Cocos (Keeling) Islands\", \"Cameroon\", \"Comoros\", \"Colombia\", \"Northern Mariana Islands\", \"Costa Rica\", \"Central African Republic\", \"Cuba\", \"Cape Verde\", \"Cook Islands\", \"Cyprus\", \"Denmark\", \"Djibouti\", \"Dominica\", \"Jarvis Island\", \"Dominican Republic\", \"Ecuador\", \"Egypt\", \"Ireland\", \"Equatorial Guinea\", \"Estonia\", \"Eritrea\", \"El Salvador\", \"Ethiopia\", \"Czech Republic\", \"French Guiana\", \"Finland\", \"Fiji\", \"Falkland Islands (Islas Malvinas)\", \"Federated States of Micronesia\", \"Faroe Islands\", \"French Polynesia\", \"Baker Island\", \"France\", \"French Southern & Antarctic Lands\", \"Gambia, The\", \"Gabon\", \"Georgia\", \"Ghana\", \"Gibraltar\", \"Grenada\", \"Guernsey\", \"Greenland\", \"Germany\", \"Glorioso Islands\", \"Guadeloupe\", \"Guam\", \"Greece\", \"Guatemala\", \"Guinea\", \"Guyana\", \"Gaza Strip\", \"Haiti\", \"Heard Island & McDonald Islands\", \"Honduras\", \"Howland Island\", \"Croatia\", \"Hungary\", \"Iceland\", \"Indonesia\", \"Man, Isle of\", \"India\", \"British Indian Ocean Territory\", \"Iran\", \"Israel\", \"Italy\", \"Ivory Coast\", \"Iraq\", \"Japan\", \"Jersey\", \"Jamaica\", \"Jan Mayen\", \"Jordan\", \"Johnston Atoll\", \"Juan De Nova Island\", \"Kenya\", \"Kyrgyzstan\", \"North Korea\", \"Kiribati\", \"South Korea\", \"Christmas Island\", \"Kuwait\", \"Kazakhstan\", \"Laos\", \"Lebanon\", \"Latvia\", \"Lithuania\", \"Liberia\", \"Slovakia\", \"Liechtenstein\", \"Lesotho\", \"Luxembourg\", \"Libya\", \"Madagascar\", \"Martinique\", \"Macau\", \"Moldova\", \"Mayotte\", \"Mongolia\", \"Montserrat\", \"Malawi\", \"Macedonia\", \"Mali\", \"Monaco\", \"Morocco\", \"Mauritius\", \"Midway Islands\", \"Mauritania\", \"Malta\", \"Oman\", \"Maldives\", \"Montenegro\", \"Mexico\", \"Malaysia\", \"Mozambique\", \"New Caledonia\", \"Niue\", \"Norfolk Island\", \"Niger\", \"Vanuatu\", \"Nigeria\", \"Netherlands\", \"Norway\", \"Nepal\", \"Nauru\", \"Suriname\", \"Netherlands Antilles\", \"Nicaragua\", \"New Zealand\", \"Paraguay\", \"Pitcairn Islands\", \"Peru\", \"Paracel Islands\", \"Spratly Islands\", \"Pakistan\", \"Poland\", \"Panama\", \"Portugal\", \"Papua New Guinea\", \"Pacific Islands (Palau)\", \"Guinea-Bissau\", \"Qatar\", \"Reunion\", \"Marshall Islands\", \"Romania\", \"Philippines\", \"Puerto Rico\", \"Russia\", \"Rwanda\", \"Saudi Arabia\", \"St. Pierre and Miquelon\", \"St. Kitts and Nevis\", \"Seychelles\", \"South Africa\", \"Senegal\", \"St. Helena\", \"Slovenia\", \"Sierra Leone\", \"San Marino\", \"Singapore\", \"Somalia\", \"Spain\", \"Serbia\", \"St. Lucia\", \"Sudan\", \"Svalbard\", \"Sweden\", \"South Georgia and the South Sandwich Is\", \"Syria\", \"Switzerland\", \"United Arab Emirates\", \"Trinidad and Tobago\", \"Thailand\", \"Tajikistan\", \"Turks and Caicos Islands\", \"Tokelau\", \"Tonga\", \"Togo\", \"Sao Tome and Principe\", \"Tunisia\", \"Turkey\", \"Tuvalu\", \"Taiwan\", \"Turkmenistan\", \"Tanzania, United Republic of\", \"Uganda\", \"United Kingdom\", \"Ukraine\", \"United States\", \"Burkina Faso\", \"Uruguay\", \"Uzbekistan\", \"St. Vincent and the Grenadines\", \"Venezuela\", \"British Virgin Islands\", \"Vietnam\", \"Virgin Islands\", \"Namibia\", \"West Bank\", \"Wallis and Futuna\", \"Western Sahara\", \"Wake Island\", \"Western Samoa\", \"Swaziland\", \"Yemen\", \"Zambia\", \"Zimbabwe\", null, null, null], \"name\": \"\", \"type\": \"choropleth\", \"z\": [0.0, 1.3979400086720377, 3.165541076722373, 3.512817758564873, 3.2089785172762535, 2.8530895298518657, 3.2247919564926817, 2.8686444383948255, 1.414973347970818, 0.0, 3.5776066773625357, 3.8257505813480277, 4.180383965589764, 0.0, 0.0, 3.413132050434872, 1.9030899869919435, 1.3617278360175928, 0.0, 4.656347394448541, 1.8976270912904414, 3.69888313675259, 1.2787536009528289, 3.172310968521954, 2.9380190974762104, 2.167317334748176, 1.7403626894942439, 3.98186389099135, 0.0, 4.773237746889377, 0.9030899869919435, 3.0962145853464054, 0.0, 2.143014800254095, 1.0791812460476249, 4.657935030474059, 2.089905111439398, 1.6720978579357175, 2.663700925389648, 2.303196057420489, 2.6201360549737576, 4.923813721091189, 4.109207196320066, 0.0, 0.0, 3.1815577738627865, 0.0, 3.71121652432109, 0.0, 2.841359470454855, 1.2304489213782739, 3.1264561134318045, 1.9590413923210936, 0.0, 2.909020854211156, 3.936714758211204, 3.0038911662369103, 1.2304489213782739, 0.0, 3.772834927239018, 4.356408327038981, 3.635483746814912, 4.268624768335871, 2.413299764081252, 3.2137832993353044, 1.6020599913279623, 2.439332693830263, 2.089905111439398, 3.8664645659717403, 0.0, 3.6508900778563125, 1.2787536009528289, 0.0, 0.0, 0.0, 0.0, 0.0, 5.208562275566856, 0.0, 1.0413926851582251, 2.247973266361807, 2.6599162000698504, 3.1072099696478683, 0.0, 1.2787536009528289, 0.0, 0.0, 5.1945531907694225, 0.0, 0.0, 0.0, 3.3991543339582164, 2.6757783416740852, 2.998695158311656, 1.8692317197309762, 2.5352941200427703, 1.863322860120456, 0.0, 2.797959643737196, 0.0, 3.3047058982127653, 3.3881012015705165, 3.2530955858490316, 3.934902258322314, 0.0, 4.419691458518478, 0.0, 4.950992472274792, 4.18466304462968, 5.290817861859844, 3.03261876085072, 3.246498580795801, 4.121625492208471, 0.0, 2.48572142648158, 0.0, 2.6483600109809315, 0.0, 0.0, 2.53655844257153, 2.823474229170301, 0.0, 0.0, 4.030559245291156, 0.0, 3.461348433647983, 3.4153072922255676, 1.3010299956639813, 2.848189116991399, 2.9057958803678687, 3.154423973114647, 2.0827853703164503, 3.137986732723532, 1.9138138523837167, 0.0, 3.5696079675468244, 1.792391689498254, 2.093421685162235, 0.0, 0.0, 3.519171463821659, 0.0, 1.5797835966168101, 0.0, 1.5314789170422551, 3.1360860973840974, 2.569373909615046, 1.9777236052888478, 3.5908418347816027, 2.5211380837040362, 0.0, 0.9030899869919435, 2.6522463410033232, 3.2801228963023075, 2.250420002308894, 2.506505032404872, 4.14123021889658, 3.7591388162811663, 1.8512583487190752, 0.0, 0.0, 0.0, 2.8356905714924254, 0.0, 3.0729847446279304, 4.572697384982698, 3.8750612633917, 1.6989700043360187, 0.0, 1.0413926851582251, 0.0, 1.1139433523068367, 3.16761267272753, 2.359835482339888, 0.0, 4.4036694793552815, 0.0, 0.0, 4.104623660435326, 4.052078030484169, 3.7434313651466837, 4.369085920821508, 0.9542425094393249, 0.0, 1.724275869600789, 3.971229447276241, 0.0, 0.0, 4.026778328659529, 3.86302529622947, 0.0, 4.872674784690566, 2.2648178230095364, 4.212187604403958, 0.0, 1.2041199826559248, 1.0791812460476249, 3.6396856612426816, 2.788875115775417, 0.0, 3.1427022457376155, 1.919078092376074, 2.710963118995276, 4.1035984939779375, 2.5921767573958667, 5.349782453363471, 3.821579027912009, 1.2041199826559248, 2.330413773349191, 0.0, 4.259546099087022, 0.0, 1.6334684555795864, 4.460822698802402, 3.9918460536448968, 2.0644579892269186, 3.463594402187, 0.0, 0.0, 0.0, 0.0, 1.9867717342662448, 0.6989700043360189, 2.9731278535996988, 5.032514001866944, 0.0, 2.6334684555795866, 0.0, 2.4771212547196626, 1.8808135922807914, 5.174844493655455, 3.909876817990393, 5.972274597529932, 2.7993405494535817, 2.775974331129369, 3.2702128548962426, 1.1760912590556813, 2.510545010206612, 0.0, 2.432969290874406, 0.0, 1.2304489213782739, 0.0, 0.0, 0.8450980400142568, 0.0, 0.0, 1.7558748556724915, 0.3010299956639812, 1.9294189257142926, 1.505149978319906, null, null, null]}],                        {\"coloraxis\": {\"cmax\": 5.972274597529932, \"cmin\": 0.0, \"colorbar\": {\"title\": {\"text\": \"Confirmed\"}}, \"colorscale\": [[0.0, \"rgb(255,245,240)\"], [0.125, \"rgb(254,224,210)\"], [0.25, \"rgb(252,187,161)\"], [0.375, \"rgb(252,146,114)\"], [0.5, \"rgb(251,106,74)\"], [0.625, \"rgb(239,59,44)\"], [0.75, \"rgb(203,24,29)\"], [0.875, \"rgb(165,15,21)\"], [1.0, \"rgb(103,0,13)\"]]}, \"geo\": {\"center\": {}, \"domain\": {\"x\": [0.0, 1.0], \"y\": [0.0, 1.0]}}, \"legend\": {\"tracegroupgap\": 0}, \"template\": {\"data\": {\"bar\": [{\"error_x\": {\"color\": \"#f2f5fa\"}, \"error_y\": {\"color\": \"#f2f5fa\"}, \"marker\": {\"line\": {\"color\": \"rgb(17,17,17)\", \"width\": 0.5}}, \"type\": \"bar\"}], \"barpolar\": [{\"marker\": {\"line\": {\"color\": \"rgb(17,17,17)\", \"width\": 0.5}}, \"type\": \"barpolar\"}], \"carpet\": [{\"aaxis\": {\"endlinecolor\": \"#A2B1C6\", \"gridcolor\": \"#506784\", \"linecolor\": \"#506784\", \"minorgridcolor\": \"#506784\", \"startlinecolor\": \"#A2B1C6\"}, \"baxis\": {\"endlinecolor\": \"#A2B1C6\", \"gridcolor\": \"#506784\", \"linecolor\": \"#506784\", \"minorgridcolor\": \"#506784\", \"startlinecolor\": \"#A2B1C6\"}, \"type\": \"carpet\"}], \"choropleth\": [{\"colorbar\": {\"outlinewidth\": 0, \"ticks\": \"\"}, \"type\": \"choropleth\"}], \"contour\": [{\"colorbar\": {\"outlinewidth\": 0, \"ticks\": \"\"}, \"colorscale\": [[0.0, \"#0d0887\"], [0.1111111111111111, \"#46039f\"], [0.2222222222222222, \"#7201a8\"], [0.3333333333333333, \"#9c179e\"], [0.4444444444444444, \"#bd3786\"], [0.5555555555555556, \"#d8576b\"], [0.6666666666666666, \"#ed7953\"], [0.7777777777777778, \"#fb9f3a\"], [0.8888888888888888, \"#fdca26\"], [1.0, \"#f0f921\"]], \"type\": \"contour\"}], \"contourcarpet\": [{\"colorbar\": {\"outlinewidth\": 0, \"ticks\": \"\"}, \"type\": \"contourcarpet\"}], \"heatmap\": [{\"colorbar\": {\"outlinewidth\": 0, \"ticks\": \"\"}, \"colorscale\": [[0.0, \"#0d0887\"], [0.1111111111111111, \"#46039f\"], [0.2222222222222222, \"#7201a8\"], [0.3333333333333333, \"#9c179e\"], [0.4444444444444444, \"#bd3786\"], [0.5555555555555556, \"#d8576b\"], [0.6666666666666666, \"#ed7953\"], [0.7777777777777778, \"#fb9f3a\"], [0.8888888888888888, \"#fdca26\"], [1.0, \"#f0f921\"]], \"type\": \"heatmap\"}], \"heatmapgl\": [{\"colorbar\": {\"outlinewidth\": 0, \"ticks\": \"\"}, \"colorscale\": [[0.0, \"#0d0887\"], [0.1111111111111111, \"#46039f\"], [0.2222222222222222, \"#7201a8\"], [0.3333333333333333, \"#9c179e\"], [0.4444444444444444, \"#bd3786\"], [0.5555555555555556, \"#d8576b\"], [0.6666666666666666, \"#ed7953\"], [0.7777777777777778, \"#fb9f3a\"], [0.8888888888888888, \"#fdca26\"], [1.0, \"#f0f921\"]], \"type\": \"heatmapgl\"}], \"histogram\": [{\"marker\": {\"colorbar\": {\"outlinewidth\": 0, \"ticks\": \"\"}}, \"type\": \"histogram\"}], \"histogram2d\": [{\"colorbar\": {\"outlinewidth\": 0, \"ticks\": \"\"}, \"colorscale\": [[0.0, \"#0d0887\"], [0.1111111111111111, \"#46039f\"], [0.2222222222222222, \"#7201a8\"], [0.3333333333333333, \"#9c179e\"], [0.4444444444444444, \"#bd3786\"], [0.5555555555555556, \"#d8576b\"], [0.6666666666666666, \"#ed7953\"], [0.7777777777777778, \"#fb9f3a\"], [0.8888888888888888, \"#fdca26\"], [1.0, \"#f0f921\"]], \"type\": \"histogram2d\"}], \"histogram2dcontour\": [{\"colorbar\": {\"outlinewidth\": 0, \"ticks\": \"\"}, \"colorscale\": [[0.0, \"#0d0887\"], [0.1111111111111111, \"#46039f\"], [0.2222222222222222, \"#7201a8\"], [0.3333333333333333, \"#9c179e\"], [0.4444444444444444, \"#bd3786\"], [0.5555555555555556, \"#d8576b\"], [0.6666666666666666, \"#ed7953\"], [0.7777777777777778, \"#fb9f3a\"], [0.8888888888888888, \"#fdca26\"], [1.0, \"#f0f921\"]], \"type\": \"histogram2dcontour\"}], \"mesh3d\": [{\"colorbar\": {\"outlinewidth\": 0, \"ticks\": \"\"}, \"type\": \"mesh3d\"}], \"parcoords\": [{\"line\": {\"colorbar\": {\"outlinewidth\": 0, \"ticks\": \"\"}}, \"type\": \"parcoords\"}], \"pie\": [{\"automargin\": true, \"type\": \"pie\"}], \"scatter\": [{\"marker\": {\"line\": {\"color\": \"#283442\"}}, \"type\": \"scatter\"}], \"scatter3d\": [{\"line\": {\"colorbar\": {\"outlinewidth\": 0, \"ticks\": \"\"}}, \"marker\": {\"colorbar\": {\"outlinewidth\": 0, \"ticks\": \"\"}}, \"type\": \"scatter3d\"}], \"scattercarpet\": [{\"marker\": {\"colorbar\": {\"outlinewidth\": 0, \"ticks\": \"\"}}, \"type\": \"scattercarpet\"}], \"scattergeo\": [{\"marker\": {\"colorbar\": {\"outlinewidth\": 0, \"ticks\": \"\"}}, \"type\": \"scattergeo\"}], \"scattergl\": [{\"marker\": {\"line\": {\"color\": \"#283442\"}}, \"type\": \"scattergl\"}], \"scattermapbox\": [{\"marker\": {\"colorbar\": {\"outlinewidth\": 0, \"ticks\": \"\"}}, \"type\": \"scattermapbox\"}], \"scatterpolar\": [{\"marker\": {\"colorbar\": {\"outlinewidth\": 0, \"ticks\": \"\"}}, \"type\": \"scatterpolar\"}], \"scatterpolargl\": [{\"marker\": {\"colorbar\": {\"outlinewidth\": 0, \"ticks\": \"\"}}, \"type\": \"scatterpolargl\"}], \"scatterternary\": [{\"marker\": {\"colorbar\": {\"outlinewidth\": 0, \"ticks\": \"\"}}, \"type\": \"scatterternary\"}], \"surface\": [{\"colorbar\": {\"outlinewidth\": 0, \"ticks\": \"\"}, \"colorscale\": [[0.0, \"#0d0887\"], [0.1111111111111111, \"#46039f\"], [0.2222222222222222, \"#7201a8\"], [0.3333333333333333, \"#9c179e\"], [0.4444444444444444, \"#bd3786\"], [0.5555555555555556, \"#d8576b\"], [0.6666666666666666, \"#ed7953\"], [0.7777777777777778, \"#fb9f3a\"], [0.8888888888888888, \"#fdca26\"], [1.0, \"#f0f921\"]], \"type\": \"surface\"}], \"table\": [{\"cells\": {\"fill\": {\"color\": \"#506784\"}, \"line\": {\"color\": \"rgb(17,17,17)\"}}, \"header\": {\"fill\": {\"color\": \"#2a3f5f\"}, \"line\": {\"color\": \"rgb(17,17,17)\"}}, \"type\": \"table\"}]}, \"layout\": {\"annotationdefaults\": {\"arrowcolor\": \"#f2f5fa\", \"arrowhead\": 0, \"arrowwidth\": 1}, \"coloraxis\": {\"colorbar\": {\"outlinewidth\": 0, \"ticks\": \"\"}}, \"colorscale\": {\"diverging\": [[0, \"#8e0152\"], [0.1, \"#c51b7d\"], [0.2, \"#de77ae\"], [0.3, \"#f1b6da\"], [0.4, \"#fde0ef\"], [0.5, \"#f7f7f7\"], [0.6, \"#e6f5d0\"], [0.7, \"#b8e186\"], [0.8, \"#7fbc41\"], [0.9, \"#4d9221\"], [1, \"#276419\"]], \"sequential\": [[0.0, \"#0d0887\"], [0.1111111111111111, \"#46039f\"], [0.2222222222222222, \"#7201a8\"], [0.3333333333333333, \"#9c179e\"], [0.4444444444444444, \"#bd3786\"], [0.5555555555555556, \"#d8576b\"], [0.6666666666666666, \"#ed7953\"], [0.7777777777777778, \"#fb9f3a\"], [0.8888888888888888, \"#fdca26\"], [1.0, \"#f0f921\"]], \"sequentialminus\": [[0.0, \"#0d0887\"], [0.1111111111111111, \"#46039f\"], [0.2222222222222222, \"#7201a8\"], [0.3333333333333333, \"#9c179e\"], [0.4444444444444444, \"#bd3786\"], [0.5555555555555556, \"#d8576b\"], [0.6666666666666666, \"#ed7953\"], [0.7777777777777778, \"#fb9f3a\"], [0.8888888888888888, \"#fdca26\"], [1.0, \"#f0f921\"]]}, \"colorway\": [\"#636efa\", \"#EF553B\", \"#00cc96\", \"#ab63fa\", \"#FFA15A\", \"#19d3f3\", \"#FF6692\", \"#B6E880\", \"#FF97FF\", \"#FECB52\"], \"font\": {\"color\": \"#f2f5fa\"}, \"geo\": {\"bgcolor\": \"rgb(17,17,17)\", \"lakecolor\": \"rgb(17,17,17)\", \"landcolor\": \"rgb(17,17,17)\", \"showlakes\": true, \"showland\": true, \"subunitcolor\": \"#506784\"}, \"hoverlabel\": {\"align\": \"left\"}, \"hovermode\": \"closest\", \"mapbox\": {\"style\": \"dark\"}, \"paper_bgcolor\": \"rgb(17,17,17)\", \"plot_bgcolor\": \"rgb(17,17,17)\", \"polar\": {\"angularaxis\": {\"gridcolor\": \"#506784\", \"linecolor\": \"#506784\", \"ticks\": \"\"}, \"bgcolor\": \"rgb(17,17,17)\", \"radialaxis\": {\"gridcolor\": \"#506784\", \"linecolor\": \"#506784\", \"ticks\": \"\"}}, \"scene\": {\"xaxis\": {\"backgroundcolor\": \"rgb(17,17,17)\", \"gridcolor\": \"#506784\", \"gridwidth\": 2, \"linecolor\": \"#506784\", \"showbackground\": true, \"ticks\": \"\", \"zerolinecolor\": \"#C8D4E3\"}, \"yaxis\": {\"backgroundcolor\": \"rgb(17,17,17)\", \"gridcolor\": \"#506784\", \"gridwidth\": 2, \"linecolor\": \"#506784\", \"showbackground\": true, \"ticks\": \"\", \"zerolinecolor\": \"#C8D4E3\"}, \"zaxis\": {\"backgroundcolor\": \"rgb(17,17,17)\", \"gridcolor\": \"#506784\", \"gridwidth\": 2, \"linecolor\": \"#506784\", \"showbackground\": true, \"ticks\": \"\", \"zerolinecolor\": \"#C8D4E3\"}}, \"shapedefaults\": {\"line\": {\"color\": \"#f2f5fa\"}}, \"sliderdefaults\": {\"bgcolor\": \"#C8D4E3\", \"bordercolor\": \"rgb(17,17,17)\", \"borderwidth\": 1, \"tickwidth\": 0}, \"ternary\": {\"aaxis\": {\"gridcolor\": \"#506784\", \"linecolor\": \"#506784\", \"ticks\": \"\"}, \"baxis\": {\"gridcolor\": \"#506784\", \"linecolor\": \"#506784\", \"ticks\": \"\"}, \"bgcolor\": \"rgb(17,17,17)\", \"caxis\": {\"gridcolor\": \"#506784\", \"linecolor\": \"#506784\", \"ticks\": \"\"}}, \"title\": {\"x\": 0.05}, \"updatemenudefaults\": {\"bgcolor\": \"#506784\", \"borderwidth\": 0}, \"xaxis\": {\"automargin\": true, \"gridcolor\": \"#283442\", \"linecolor\": \"#506784\", \"ticks\": \"\", \"title\": {\"standoff\": 15}, \"zerolinecolor\": \"#283442\", \"zerolinewidth\": 2}, \"yaxis\": {\"automargin\": true, \"gridcolor\": \"#283442\", \"linecolor\": \"#506784\", \"ticks\": \"\", \"title\": {\"standoff\": 15}, \"zerolinecolor\": \"#283442\", \"zerolinewidth\": 2}}}, \"title\": {\"text\": \"Countries with Confirmed Cases\"}},                        {\"responsive\": true}                    ).then(function(){\n",
       "                            \n",
       "var gd = document.getElementById('0014f8d8-c42e-4bbb-8917-a321ffa747ac');\n",
       "var x = new MutationObserver(function (mutations, observer) {{\n",
       "        var display = window.getComputedStyle(gd).display;\n",
       "        if (!display || display === 'none') {{\n",
       "            console.log([gd, 'removed!']);\n",
       "            Plotly.purge(gd);\n",
       "            observer.disconnect();\n",
       "        }}\n",
       "}});\n",
       "\n",
       "// Listen for the removal of the full notebook cells\n",
       "var notebookContainer = gd.closest('#notebook-container');\n",
       "if (notebookContainer) {{\n",
       "    x.observe(notebookContainer, {childList: true});\n",
       "}}\n",
       "\n",
       "// Listen for the clearing of the current output cell\n",
       "var outputEl = gd.closest('.output');\n",
       "if (outputEl) {{\n",
       "    x.observe(outputEl, {childList: true});\n",
       "}}\n",
       "\n",
       "                        })                };                });            </script>        </div>"
      ]
     },
     "metadata": {},
     "output_type": "display_data"
    }
   ],
   "source": [
    "covid_map = px.choropleth(global_df, locations=\"Country\", \n",
    "            color=\"Confirmed\",locationmode='country names',\n",
    "            hover_data=['Cases'],\n",
    "            range_color=[global_df['Confirmed'].min(), global_df['Confirmed'].max()], \n",
    "            color_continuous_scale=\"reds\", \n",
    "            title='Countries with Confirmed Cases')\n",
    "covid_map.show()\n"
   ]
  },
  {
   "cell_type": "code",
   "execution_count": 11,
   "metadata": {},
   "outputs": [],
   "source": [
    "#Dash App Layout\n",
    "news_api_key='1afe5c04580a4593a86c83c197c21a56'\n",
    "app = dash.Dash(__name__)\n",
    "app.layout = html.Div([\n",
    "    \n",
    "    html.H1(\"COVID-19 DASHBOARD\",style={'text-align':'center'}),\n",
    "    \n",
    "    \n",
    "    dcc.Graph(id='world_map',figure=covid_map),\n",
    "    \n",
    "    \n",
    "    html.Br(),\n",
    "    html.Div(id='stats_container', children=[])\n",
    "    \n",
    "])"
   ]
  },
  {
   "cell_type": "code",
   "execution_count": null,
   "metadata": {},
   "outputs": [
    {
     "name": "stdout",
     "output_type": "stream",
     "text": [
      "Dash is running on http://127.0.0.1:8050/\n",
      "\n",
      "Dash is running on http://127.0.0.1:8050/\n",
      "\n",
      " * Serving Flask app \"__main__\" (lazy loading)\n",
      " * Environment: production\n",
      "   WARNING: This is a development server. Do not use it in a production deployment.\n",
      "   Use a production WSGI server instead.\n",
      " * Debug mode: off\n"
     ]
    },
    {
     "name": "stderr",
     "output_type": "stream",
     "text": [
      " * Running on http://127.0.0.1:8050/ (Press CTRL+C to quit)\n"
     ]
    }
   ],
   "source": [
    "\n",
    "#Dash App Callback\n",
    "@app.callback(\n",
    "    [Output(component_id='stats_container', component_property='children'),\n",
    "     Output(component_id='world_map', component_property='figure')]\n",
    ")\n",
    "\n",
    "def show_map():\n",
    "    return covid_map\n",
    "\n",
    "\n",
    "def dis_play_hover_data(hover_data):\n",
    "    return json.dumps(hover_data, indent=2)\n",
    "\n",
    "if __name__ == '__main__':\n",
    "    app.run_server()"
   ]
  },
  {
   "cell_type": "code",
   "execution_count": 10,
   "metadata": {},
   "outputs": [
    {
     "name": "stdout",
     "output_type": "stream",
     "text": [
      "1 Coronavirus Briefing Newsletter - Times of India\n",
      "2 Police crack down on secret warehouse parties violating Covid-19 guidelines - CNN Video\n",
      "3 SA Chief Public Health Officer Nicola Spurrier apologises for wrongly suggesting man breached coronavirus quarantine\n",
      "4 SA Chief Public Health Officer Nicola Spurrier apologises for wrongly suggesting man breached coronavirus quarantine\n",
      "5 Americans brace for Covid 'surge upon a surge'\n",
      "6 Covid infections in England fall by 30% over lockdown - React study\n",
      "7 Coronavirus India live updates: TN extends lockdown till Dec 31 with several relaxations\n",
      "8 Canada’s holiday coronavirus spread expected to eclipse first wave\n",
      "9 Qantas to outsource more than 2,000 ground crew jobs due to coronavirus pandemic\n",
      "10 “Sunday Morning” Full Episode 11/29\n",
      "11 Coronavirus: Donnelly warns State entering ‘uncharted territory’\n",
      "12 'A natural disaster ... in all 50 states' is unfolding just as travelers disperse nationwide after Thanksgiving\n",
      "13 Top health officials agree Americans who traveled for Thanksgiving should get tested. But this is where they differ\n",
      "14 Source: Pa. state Sen. Doug Mastriano learns of positive coronavirus test at Trump meeting\n",
      "15 Coronavirus latest: Canada’s top doctor fears doubling of new daily cases by mid-December\n",
      "16 Source: Pa. lawmaker gets a positive test at Trump meeting\n",
      "17 Report: U.S. to Have 500K Fewer U.S. Births in 2021 Due to Coronavirus\n",
      "18 Anthony Fauci: 'Close the bars and keep the schools open' - Business Insider\n",
      "19 Anthony Fauci: 'Close the bars and keep the schools open' - Business Insider\n",
      "20 Biden to Name Rouse, Tanden to Economic Team\n"
     ]
    }
   ],
   "source": [
    "import requests\n",
    "\n",
    "API_KEY = '1afe5c04580a4593a86c83c197c21a56'\n",
    "\n",
    "params = {\n",
    "    'q': 'corona virus',\n",
    "    'source': 'bbc-news',\n",
    "    'sortBy': 'top',\n",
    "    'language': 'en',\n",
    "    #'category': 'business',\n",
    "    #'country': 'us',\n",
    "    #'apiKey': API_KEY,\n",
    "}\n",
    "\n",
    "headers = {\n",
    "    'X-Api-Key': API_KEY,  # KEY in header to hide it from url\n",
    "}\n",
    "\n",
    "url = 'https://newsapi.org/v2/top-headlines'\n",
    "\n",
    "response = requests.get(url, params=params, headers=headers)\n",
    "data = response.json()\n",
    "\n",
    "articles = data[\"articles\"] \n",
    "results = [arr[\"title\"] for arr in articles] \n",
    "\n",
    "for i, arr in enumerate(results, 1): \n",
    "    print(i, arr)"
   ]
  },
  {
   "cell_type": "code",
   "execution_count": null,
   "metadata": {},
   "outputs": [],
   "source": []
  }
 ],
 "metadata": {
  "kernelspec": {
   "display_name": "Python 3",
   "language": "python",
   "name": "python3"
  },
  "language_info": {
   "codemirror_mode": {
    "name": "ipython",
    "version": 3
   },
   "file_extension": ".py",
   "mimetype": "text/x-python",
   "name": "python",
   "nbconvert_exporter": "python",
   "pygments_lexer": "ipython3",
   "version": "3.6.12"
  }
 },
 "nbformat": 4,
 "nbformat_minor": 4
}
